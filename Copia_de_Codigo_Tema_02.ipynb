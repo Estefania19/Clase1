{
  "nbformat": 4,
  "nbformat_minor": 0,
  "metadata": {
    "colab": {
      "name": "Copia de Codigo_Tema_02.ipynb",
      "provenance": [],
      "collapsed_sections": [],
      "toc_visible": true,
      "include_colab_link": true
    },
    "kernelspec": {
      "name": "python3",
      "display_name": "Python 3"
    }
  },
  "cells": [
    {
      "cell_type": "markdown",
      "metadata": {
        "id": "view-in-github",
        "colab_type": "text"
      },
      "source": [
        "<a href=\"https://colab.research.google.com/github/Estefania19/Clase1/blob/main/Copia_de_Codigo_Tema_02.ipynb\" target=\"_parent\"><img src=\"https://colab.research.google.com/assets/colab-badge.svg\" alt=\"Open In Colab\"/></a>"
      ]
    },
    {
      "cell_type": "markdown",
      "metadata": {
        "id": "55co2gYtZu1G"
      },
      "source": [
        "# Código Tema 02"
      ]
    },
    {
      "cell_type": "markdown",
      "metadata": {
        "id": "ebnWxHzdZ5xC"
      },
      "source": [
        "[![Open In Colab](https://colab.research.google.com/assets/colab-badge.svg)](https://colab.research.google.com/drive/1-KQVyLAXjBUxxC0OM87L8GrgJodjXAcA?usp=sharing)"
      ]
    },
    {
      "cell_type": "code",
      "metadata": {
        "colab": {
          "base_uri": "https://localhost:8080/"
        },
        "id": "BbkI6HAYKCBD",
        "outputId": "75e217bd-6423-4d79-9cb6-29c2e13a048f"
      },
      "source": [
        "# Creando una variable string\r\n",
        "Mensaje = \"Hola\"\r\n",
        "\r\n",
        "# Imprimiendo la variable\r\n",
        "print(Mensaje)\r\n",
        "\r\n",
        "print(\"\\t¿Como estas? \\n \\tEstoy bien\", Mensaje)\r\n",
        "# \\n es un salto de linea\r\n",
        "# \\t es un tabulador"
      ],
      "execution_count": null,
      "outputs": [
        {
          "output_type": "stream",
          "text": [
            "Hola\n",
            "\t¿Como estas? \n",
            " \tEstoy bien Hola\n"
          ],
          "name": "stdout"
        }
      ]
    },
    {
      "cell_type": "code",
      "metadata": {
        "colab": {
          "base_uri": "https://localhost:8080/"
        },
        "id": "2-sxbblI5EHw",
        "outputId": "3cbd5f5a-7918-4b95-ebd5-4caddf406e04"
      },
      "source": [
        "# Concatenacion de strings\r\n",
        "M_1 = \"Estoy\"\r\n",
        "M_2 = \" dando\"\r\n",
        "M_3 = \" una clase\"\r\n",
        "M_total = M_1 + M_2 + M_3\r\n",
        "\r\n",
        "print(M_total)\r\n",
        "print(M_1 + M_2 + M_3 + \" de Python\")\r\n",
        "\r\n",
        "# No hagan esto\r\n",
        "Numero_1 = \"1\"\r\n",
        "Numero_2 = \"2\"\r\n",
        "Numero_3 = Numero_1 + Numero_2\r\n",
        "print(Numero_3)"
      ],
      "execution_count": null,
      "outputs": [
        {
          "output_type": "stream",
          "text": [
            "Estoy dando una clase\n",
            "Estoy dando una clase de Python\n",
            "12\n"
          ],
          "name": "stdout"
        }
      ]
    },
    {
      "cell_type": "code",
      "metadata": {
        "colab": {
          "base_uri": "https://localhost:8080/"
        },
        "id": "VTKpb-LI6T9Q",
        "outputId": "cd656876-9647-463c-ee21-5432057dc8a6"
      },
      "source": [
        "print(\"¿Cual es tu nombre?\")\r\n",
        "\r\n",
        "# Solicitando al usuario un string\r\n",
        "Nombre = input()\r\n",
        "\r\n",
        "#print(Nombre)\r\n",
        "# Solicitando un string al usuario mediante un mensaje\r\n",
        "Apellido = input(\"¿Cual es tu apellido? \")\r\n",
        "\r\n",
        "print(\"Mi nombre es\", Nombre, Apellido)"
      ],
      "execution_count": null,
      "outputs": [
        {
          "output_type": "stream",
          "text": [
            "¿Cual es tu nombre?\n",
            "David\n",
            "¿Cual es tu apellido? Alba\n",
            "Mi nombre es David Alba\n"
          ],
          "name": "stdout"
        }
      ]
    },
    {
      "cell_type": "markdown",
      "metadata": {
        "id": "Jo_03yXKWMnV"
      },
      "source": [
        "#En esta sección puedes hacer tu tarea\r\n"
      ]
    },
    {
      "cell_type": "code",
      "metadata": {
        "id": "oUv2vJrkScqz",
        "colab": {
          "base_uri": "https://localhost:8080/"
        },
        "outputId": "666b8221-06b3-40b6-eedc-ac0ac13916f8"
      },
      "source": [
        " # creando una variable string\n",
        " Mensaje = \" Hola \" \n",
        " # imprimiendo la variable  \n",
        " print (Mensaje) \n",
        " print ( \" ¿como estas? \\n \\t Estoy bien \" , Mensaje )\n",
        " "
      ],
      "execution_count": null,
      "outputs": [
        {
          "output_type": "stream",
          "text": [
            " Hola \n",
            " ¿como estas? \n",
            " \t Estoy bien   Hola \n"
          ],
          "name": "stdout"
        }
      ]
    },
    {
      "cell_type": "code",
      "metadata": {
        "id": "oBpFsParUXCE",
        "colab": {
          "base_uri": "https://localhost:8080/"
        },
        "outputId": "e7499842-999d-46da-fc9c-b101c6378a5c"
      },
      "source": [
        "# concatenacion de strings \n",
        "M_1 = \" Estoy \" \n",
        "M_2 = \" dando \" \n",
        "M_3 = \" una clase \" \n",
        "M_total = M_1 + M_2 + M_3 \n",
        "print ( M_total ) \n",
        "M_total = (M_1 + M_2 + M_3 + \" de python \")\n",
        "\n"
      ],
      "execution_count": null,
      "outputs": [
        {
          "output_type": "stream",
          "text": [
            " Estoy  dando  una clase \n"
          ],
          "name": "stdout"
        }
      ]
    },
    {
      "cell_type": "code",
      "metadata": {
        "id": "Z1cgpHbtbLMf",
        "colab": {
          "base_uri": "https://localhost:8080/"
        },
        "outputId": "c661f7eb-c60e-4bd1-c1a6-3eba0e80d212"
      },
      "source": [
        "print(\"¿Cual es tu nombre?\")\n",
        "\n",
        "# Solicitando al usuario un string\n",
        "Nombre = input()\n",
        "\n",
        "#print(Nombre)\n",
        "# Solicitando un string al usuario mediante un mensaje\n",
        "Apellido = input(\"¿Cual es tu apellido? \")\n",
        "\n",
        "print(\"Mi nombre es\", Nombre, Apellido)"
      ],
      "execution_count": null,
      "outputs": [
        {
          "output_type": "stream",
          "text": [
            "¿Cual es tu nombre?\n",
            "Estefanía \n",
            "¿Cual es tu apellido? Camarillo \n",
            "Mi nombre es Estefanía  Camarillo \n"
          ],
          "name": "stdout"
        }
      ]
    },
    {
      "cell_type": "code",
      "metadata": {
        "id": "v7hJnAFZhY80",
        "colab": {
          "base_uri": "https://localhost:8080/"
        },
        "outputId": "9f5038cf-7e7f-4e3e-f406-79f9e3c17382"
      },
      "source": [
        "print (\"¿cual es tu nombre?\")\n",
        "Nombre = input() \n",
        "Apellido_1 = input(\"¿cual es tu primer apellido?\")\n",
        "Apellido_2 = input(\"¿cual es tu segundo apellido\")"
      ],
      "execution_count": null,
      "outputs": [
        {
          "output_type": "stream",
          "text": [
            "¿cual es tu nombre?\n",
            "Estefanía \n",
            "¿cual es tu primer apellido?Camarillo\n",
            "¿cual es tu segundo apellidoMena\n"
          ],
          "name": "stdout"
        }
      ]
    },
    {
      "cell_type": "code",
      "metadata": {
        "id": "tihVrHK3ijqI",
        "colab": {
          "base_uri": "https://localhost:8080/"
        },
        "outputId": "25051f4f-dc02-47a9-ac82-ee9a4f8e03ee"
      },
      "source": [
        "print (\" Mi nombre es \", Nombre, Apellido_1, Apellido_2)"
      ],
      "execution_count": null,
      "outputs": [
        {
          "output_type": "stream",
          "text": [
            " Mi nombre es  Estefanía  Camarillo Mena\n"
          ],
          "name": "stdout"
        }
      ]
    }
  ]
}